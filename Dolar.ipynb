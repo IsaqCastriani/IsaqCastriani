{
  "nbformat": 4,
  "nbformat_minor": 0,
  "metadata": {
    "colab": {
      "provenance": [],
      "authorship_tag": "ABX9TyP+V4yK2Eu8rmQrB4Kt4Z2b",
      "include_colab_link": true
    },
    "kernelspec": {
      "name": "python3",
      "display_name": "Python 3"
    },
    "language_info": {
      "name": "python"
    }
  },
  "cells": [
    {
      "cell_type": "markdown",
      "metadata": {
        "id": "view-in-github",
        "colab_type": "text"
      },
      "source": [
        "<a href=\"https://colab.research.google.com/github/isaqcastriani/isaqcastriani/blob/main/Dolar.ipynb\" target=\"_parent\"><img src=\"https://colab.research.google.com/assets/colab-badge.svg\" alt=\"Open In Colab\"/></a>"
      ]
    },
    {
      "cell_type": "code",
      "execution_count": null,
      "metadata": {
        "colab": {
          "base_uri": "https://localhost:8080/"
        },
        "id": "3IbLFGHs7zZh",
        "outputId": "5f1e0ed0-ad27-4ab7-da33-e21124d2ab1c"
      },
      "outputs": [
        {
          "output_type": "stream",
          "name": "stdout",
          "text": [
            "{'Mínimo': 5.14, 'Máximo': 5.43, 'Média': 5.25}\n"
          ]
        }
      ],
      "source": [
        "import requests\n",
        "import calendar\n",
        "from datetime import datetime\n",
        "\n",
        "def cotacao_dolar_periodo(mmyyyy):\n",
        "    first_date = datetime.strptime(mmyyyy, \"%m%Y\")\n",
        "    last_date = first_date.replace(day=calendar.monthrange(first_date.year, first_date.month)[1])\n",
        "\n",
        "    data_inicial = first_date.strftime(\"%m-%d-%Y\")\n",
        "    data_final = last_date.strftime(\"%m-%d-%Y\")\n",
        "\n",
        "    url = f\"https://olinda.bcb.gov.br/olinda/servico/PTAX/versao/v1/odata/CotacaoDolarPeriodo(dataInicial=@dataInicial,dataFinalCotacao=@dataFinalCotacao)?%40dataInicial='{data_inicial}'&%40dataFinalCotacao='{data_final}'&%24format=json\"\n",
        "\n",
        "    response = requests.get(url)\n",
        "\n",
        "    if response.status_code == 200:\n",
        "        data = response.json()['value']\n",
        "\n",
        "        cotacoes = [item['cotacaoCompra'] for item in data if 'cotacaoCompra' in item]\n",
        "\n",
        "        valor_minimo = min(cotacoes)\n",
        "        valor_maximo = max(cotacoes)\n",
        "        valor_medio = sum(cotacoes) / len(cotacoes)\n",
        "\n",
        "        return {\"Mínimo\": round(valor_minimo, 2), \"Máximo\": round(valor_maximo, 2), \"Média\": round(valor_medio, 2)}\n",
        "    else:\n",
        "        return {\"error\": \"Não foi possível obter as cotações\"}\n",
        "\n",
        "resultado = cotacao_dolar_periodo(\"082021\")\n",
        "print(resultado)\n"
      ]
    }
  ]
}